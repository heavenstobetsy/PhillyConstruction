{
 "cells": [
  {
   "cell_type": "code",
   "execution_count": 8,
   "metadata": {},
   "outputs": [],
   "source": [
    "import numpy as np\n",
    "from sklearn.ensemble import RandomForestClassifier\n",
    "from sklearn.utils.random import sample_without_replacement\n",
    "from sklearn.utils import shuffle\n",
    "from sklearn.model_selection import KFold\n",
    "from sklearn import metrics\n",
    "from sklearn.model_selection import train_test_split\n",
    "from sklearn.metrics import mean_squared_error, r2_score\n",
    "from sklearn.metrics import roc_auc_score\n",
    "from sklearn.metrics import accuracy_score\n",
    "from sklearn.metrics import accuracy_score, f1_score, precision_score, recall_score, classification_report, confusion_matrix\n",
    "\n",
    "import boruta\n",
    "from boruta import BorutaPy"
   ]
  },
  {
   "cell_type": "markdown",
   "metadata": {},
   "source": [
    "## Part 4: Data modeling"
   ]
  },
  {
   "cell_type": "markdown",
   "metadata": {},
   "source": [
    "### Part 4.a Add in a target:"
   ]
  },
  {
   "cell_type": "code",
   "execution_count": 50,
   "metadata": {},
   "outputs": [
    {
     "name": "stdout",
     "output_type": "stream",
     "text": [
      "This address has too many unsafe flags and is skewing the dataset: 229\n"
     ]
    }
   ],
   "source": [
    "# Create a target variable is where there are 1+ unsafe building notices\n",
    "\n",
    "permit_inspect_unsafe['target'] = 0\n",
    "permit_inspect_unsafe.loc[permit_inspect_unsafe['unsafe_building']>0, 'target'] = 1\n",
    "\n",
    "#Data clean up\n",
    "permit_inspect_unsafe=permit_inspect_unsafe[permit_inspect_unsafe['permitnumber']!='461321`']\n",
    "permit_inspect_unsafe[permit_inspect_unsafe['unsafe_building']==1].head(1)\n",
    "print('This address has too many unsafe flags and is skewing the dataset:', permit_inspect_unsafe[permit_inspect_unsafe['addresskey']==461088].addresskey.count())\n",
    "\n",
    "#Cleanup\n",
    "permit_inspect_unsafe=permit_inspect_unsafe[permit_inspect_unsafe['addresskey']!=461088]"
   ]
  },
  {
   "cell_type": "code",
   "execution_count": 51,
   "metadata": {},
   "outputs": [],
   "source": [
    "#Data cleanup\n",
    "\n",
    "permit_inspect_unsafe.drop([ 'APPL','SITE','addresskey','permitnumber','unsafe_building'], axis=1, inplace=True)\n",
    "permit_inspect_unsafe['target'] = permit_inspect_unsafe['target'].apply(np.float64)\n",
    "\n",
    "permit_inspect_unsafe = permit_inspect_unsafe.loc[:,~permit_inspect_unsafe.columns.duplicated()]\n",
    "\n",
    "permit_inspect_unsafe.fillna(0, inplace=True)"
   ]
  },
  {
   "cell_type": "code",
   "execution_count": 52,
   "metadata": {
    "scrolled": true
   },
   "outputs": [
    {
     "name": "stdout",
     "output_type": "stream",
     "text": [
      "original dataset's distribution:\n",
      "shape:  (251023, 170)\n",
      "0.0    0.995578\n",
      "1.0    0.004422\n",
      "Name: target, dtype: float64\n"
     ]
    }
   ],
   "source": [
    "#Very skewed data:\n",
    "print(\"original dataset's distribution:\")\n",
    "print ('shape: ', permit_inspect_unsafe.shape)\n",
    "print(permit_inspect_unsafe.target.value_counts(normalize=True))"
   ]
  },
  {
   "cell_type": "markdown",
   "metadata": {},
   "source": [
    "### Part 4.b Resample and reshape the data, as it is very skewed. Resampling: Undersample or Oversample?\n"
   ]
  },
  {
   "cell_type": "markdown",
   "metadata": {},
   "source": [
    "### Part 4.b.1 Undersampling:"
   ]
  },
  {
   "cell_type": "code",
   "execution_count": 53,
   "metadata": {},
   "outputs": [
    {
     "name": "stdout",
     "output_type": "stream",
     "text": [
      "\n",
      "\n",
      "rebalanced statistisc: \n",
      "shape:  (2220, 170)\n"
     ]
    },
    {
     "data": {
      "text/plain": [
       "0.0    0.5\n",
       "1.0    0.5\n",
       "Name: target, dtype: float64"
      ]
     },
     "execution_count": 53,
     "metadata": {},
     "output_type": "execute_result"
    }
   ],
   "source": [
    "#Resample data:\n",
    "\n",
    "permit_inspect_unsafe_0 = permit_inspect_unsafe.loc[permit_inspect_unsafe.target==0]\n",
    "permit_inspect_unsafe_1 = permit_inspect_unsafe.loc[permit_inspect_unsafe.target==1]\n",
    "\n",
    "# rebalance the training set so it has 50-50% for the target. \n",
    "# this has a random state, so it needs to be fixed to be able to reproduce results. \n",
    "ix = sample_without_replacement(n_population=permit_inspect_unsafe_0.shape[0],\n",
    "                                n_samples=permit_inspect_unsafe_1.shape[0], \n",
    "                                random_state=42)\n",
    "\n",
    "permit_inspect_unsafe_0 = permit_inspect_unsafe_0.iloc[ix]\n",
    "permit_inspect_unsafe_undersample = pd.concat([permit_inspect_unsafe_0, permit_inspect_unsafe_1], ignore_index=True)\n",
    "\n",
    "#shuffle dataframe so train/test split wont' get messed up \n",
    "permit_inspect_unsafe_undersample = shuffle(permit_inspect_unsafe_undersample)\n",
    "\n",
    "permit_inspect_unsafe_undersample.reset_index(inplace=True, drop=True)\n",
    "\n",
    "print ('\\n')\n",
    "print ('rebalanced statistisc: ')\n",
    "print ('shape: ', permit_inspect_unsafe_undersample.shape)\n",
    "permit_inspect_unsafe_undersample.target.value_counts(normalize=True)"
   ]
  },
  {
   "cell_type": "markdown",
   "metadata": {},
   "source": [
    "##### Initial accuracy, recall, and confusion matrix:"
   ]
  },
  {
   "cell_type": "code",
   "execution_count": 54,
   "metadata": {},
   "outputs": [
    {
     "name": "stdout",
     "output_type": "stream",
     "text": [
      "Validation Results\n",
      "Accuracy score test 0.836036036036036\n",
      "Recall score test 0.8333333333333334\n",
      "roc_auc_score train 1.0\n",
      "roc_auc_score test 0.9173939016155004\n",
      "Accuracy score test: 83.60%\n"
     ]
    }
   ],
   "source": [
    "# Separate input features and target\n",
    "y = permit_inspect_unsafe_undersample.target\n",
    "X = permit_inspect_unsafe_undersample.drop('target', axis=1)\n",
    "\n",
    "# setting up testing and training sets\n",
    "x_train, x_val, y_train, y_val = train_test_split(X, y, test_size=0.25, random_state=42)\n",
    "\n",
    "clf_rf = RandomForestClassifier(random_state=42)\n",
    "clf_rf.fit(x_train, y_train)\n",
    "\n",
    "\n",
    "\n",
    "#Validation Results\n",
    "print('Validation Results')\n",
    "print(\"Accuracy score test\", clf_rf.score(x_val, y_val))\n",
    "print(\"Recall score test\", recall_score(y_val, clf_rf.predict(x_val)))\n",
    "\n",
    "print (\"roc_auc_score train\", roc_auc_score(y_train, clf_rf.predict_proba(x_train)[:,1]))\n",
    "print (\"roc_auc_score test\", roc_auc_score(y_val, clf_rf.predict_proba(x_val)[:,1]))\n",
    "\n",
    "#Validation Results 2 (Just cause)\n",
    "# make predictions for test data\n",
    "y_pred = clf_rf.predict(x_val)\n",
    "predictions = [round(value) for value in y_pred]\n",
    "# evaluate predictions\n",
    "accuracy = accuracy_score(y_val, predictions)\n",
    "print(\"Accuracy score test: %.2f%%\" % (accuracy * 100.0))"
   ]
  },
  {
   "cell_type": "code",
   "execution_count": 55,
   "metadata": {},
   "outputs": [
    {
     "data": {
      "text/html": [
       "<div>\n",
       "<style scoped>\n",
       "    .dataframe tbody tr th:only-of-type {\n",
       "        vertical-align: middle;\n",
       "    }\n",
       "\n",
       "    .dataframe tbody tr th {\n",
       "        vertical-align: top;\n",
       "    }\n",
       "\n",
       "    .dataframe thead th {\n",
       "        text-align: right;\n",
       "    }\n",
       "</style>\n",
       "<table border=\"1\" class=\"dataframe\">\n",
       "  <thead>\n",
       "    <tr style=\"text-align: right;\">\n",
       "      <th></th>\n",
       "      <th>pred_negative</th>\n",
       "      <th>pred_positive</th>\n",
       "    </tr>\n",
       "  </thead>\n",
       "  <tbody>\n",
       "    <tr>\n",
       "      <th>true_negative</th>\n",
       "      <td>234</td>\n",
       "      <td>45</td>\n",
       "    </tr>\n",
       "    <tr>\n",
       "      <th>true_positive</th>\n",
       "      <td>46</td>\n",
       "      <td>230</td>\n",
       "    </tr>\n",
       "  </tbody>\n",
       "</table>\n",
       "</div>"
      ],
      "text/plain": [
       "               pred_negative  pred_positive\n",
       "true_negative            234             45\n",
       "true_positive             46            230"
      ]
     },
     "execution_count": 55,
     "metadata": {},
     "output_type": "execute_result"
    }
   ],
   "source": [
    "from sklearn.metrics import confusion_matrix\n",
    "test_conf_matrix=confusion_matrix(y_val, y_pred)\n",
    "test_conf_matrix = pd.DataFrame(test_conf_matrix)\n",
    "\n",
    "test_conf_matrix.index=['true_negative', 'true_positive']\n",
    "test_conf_matrix.columns=['pred_negative', 'pred_positive']\n",
    "test_conf_matrix\n"
   ]
  },
  {
   "cell_type": "markdown",
   "metadata": {},
   "source": [
    "##### Visualizing the ROC curve:"
   ]
  },
  {
   "cell_type": "code",
   "execution_count": 56,
   "metadata": {},
   "outputs": [],
   "source": [
    "# plot probability distribution\n",
    "\n",
    "prediction = clf_rf.predict_proba(X=permit_inspect_unsafe_undersample.iloc[:,:-1])\n",
    "prediction = pd.DataFrame(prediction).iloc[:,1]\n",
    "\n",
    "permit_inspect_unsafe_undersample_t = permit_inspect_unsafe_undersample.copy()\n",
    "permit_inspect_unsafe_undersample_t.reset_index(drop=True, inplace=True)\n",
    "permit_inspect_unsafe_undersample_t['prediction'] = prediction"
   ]
  },
  {
   "cell_type": "code",
   "execution_count": 57,
   "metadata": {},
   "outputs": [
    {
     "data": {
      "image/png": "[encoded data removed]",
      "text/plain": [
       "<Figure size 432x288 with 1 Axes>"
      ]
     },
     "metadata": {},
     "output_type": "display_data"
    }
   ],
   "source": [
    "# visualize the ROC curve\n",
    "\n",
    "fpr, tpr, _ = metrics.roc_curve(permit_inspect_unsafe_undersample_t.target, permit_inspect_unsafe_undersample_t.prediction)\n",
    "auc = metrics.roc_auc_score(permit_inspect_unsafe_undersample_t.target, permit_inspect_unsafe_undersample_t.prediction)\n",
    "plt.plot(fpr,tpr,label=\"data 1, auc=\"+str(auc))\n",
    "plt.legend(loc=4)\n",
    "plt.grid()\n",
    "plt.show()"
   ]
  },
  {
   "cell_type": "markdown",
   "metadata": {},
   "source": [
    "### Part 4.b.2 Oversampling using SMOTE:"
   ]
  },
  {
   "cell_type": "code",
   "execution_count": 58,
   "metadata": {},
   "outputs": [],
   "source": [
    "from imblearn.over_sampling import SMOTE\n",
    "\n",
    "# Separate input features and target\n",
    "y = permit_inspect_unsafe.target\n",
    "X = permit_inspect_unsafe.drop('target', axis=1)\n",
    "\n",
    "# setting up testing and training sets\n",
    "training_features, test_features,training_target, test_target, = train_test_split(X,y,\n",
    "                                               test_size = .25,random_state=42)"
   ]
  },
  {
   "cell_type": "markdown",
   "metadata": {},
   "source": [
    "By oversampling only on the training data, none of the information in the validation data is being used to create synthetic observations. So these results should be generalizable. "
   ]
  },
  {
   "cell_type": "code",
   "execution_count": 59,
   "metadata": {},
   "outputs": [],
   "source": [
    "#Oversampling on only the training data:\n",
    "x_train, x_val, y_train, y_val = train_test_split(training_features, training_target,\n",
    "                                                  test_size = .25,\n",
    "                                                  random_state=42)"
   ]
  },
  {
   "cell_type": "code",
   "execution_count": 60,
   "metadata": {},
   "outputs": [
    {
     "name": "stdout",
     "output_type": "stream",
     "text": [
      "shape: (281160, 169)\n"
     ]
    }
   ],
   "source": [
    "#SMOTE\n",
    "sm = SMOTE(random_state=42, sampling_strategy ='auto')\n",
    "x_train_res, y_train_res = sm.fit_sample(x_train, y_train)\n",
    "\n",
    "print('shape:',x_train_res.shape)"
   ]
  },
  {
   "cell_type": "code",
   "execution_count": 61,
   "metadata": {},
   "outputs": [
    {
     "data": {
      "text/plain": [
       "RandomForestClassifier(bootstrap=True, ccp_alpha=0.0, class_weight=None,\n",
       "                       criterion='gini', max_depth=None, max_features='auto',\n",
       "                       max_leaf_nodes=None, max_samples=None,\n",
       "                       min_impurity_decrease=0.0, min_impurity_split=None,\n",
       "                       min_samples_leaf=1, min_samples_split=2,\n",
       "                       min_weight_fraction_leaf=0.0, n_estimators=100,\n",
       "                       n_jobs=None, oob_score=False, random_state=42, verbose=0,\n",
       "                       warm_start=False)"
      ]
     },
     "execution_count": 61,
     "metadata": {},
     "output_type": "execute_result"
    }
   ],
   "source": [
    "#Random Forest\n",
    "clf_rf = RandomForestClassifier(random_state=42)\n",
    "clf_rf.fit(x_train_res, y_train_res)"
   ]
  },
  {
   "cell_type": "code",
   "execution_count": 62,
   "metadata": {},
   "outputs": [
    {
     "name": "stdout",
     "output_type": "stream",
     "text": [
      "Validation Results\n",
      "Accuracy: 0.9963031423290203\n",
      "Recall: 0.21844660194174756\n",
      "\n",
      "Test Results\n",
      "Accuracy: 0.9964624896424247\n",
      "Recall: 0.2535211267605634\n"
     ]
    }
   ],
   "source": [
    "print('Validation Results')\n",
    "print(\"Accuracy:\",clf_rf.score(x_val, y_val))\n",
    "print (\"Recall:\",recall_score(y_val, clf_rf.predict(x_val)))\n",
    "print( '\\nTest Results')\n",
    "print (\"Accuracy:\",clf_rf.score(test_features, test_target))\n",
    "print (\"Recall:\",recall_score(test_target, clf_rf.predict(test_features)))"
   ]
  },
  {
   "cell_type": "raw",
   "metadata": {},
   "source": [
    "The validation results closely match the unseen test data results, which is exactly what I would want to see after putting a model into production.\n",
    "\n",
    "However, while the precision is high, recall is poor using SMOTE. Why does SMOTE perform so poorly?  This paper suggests that SMOTE performs poorly when given high-dimensional class-imbalanced data.\n",
    "https://bmcbioinformatics.biomedcentral.com/articles/10.1186/1471-2105-14-106"
   ]
  },
  {
   "cell_type": "markdown",
   "metadata": {},
   "source": [
    "### Part 4.b Conclusion: Based on the above results, I've chosen to undersample rather than use SMOTE"
   ]
  },
  {
   "cell_type": "markdown",
   "metadata": {},
   "source": [
    "#### Interesting sidenote--charts showing how SMOTE resamples data:"
   ]
  },
  {
   "cell_type": "code",
   "execution_count": 63,
   "metadata": {},
   "outputs": [
    {
     "name": "stdout",
     "output_type": "stream",
     "text": [
      "Counter({0.0: 249913, 1.0: 1110})\n"
     ]
    },
    {
     "data": {
      "image/png": "[encoded data removed]",
      "text/plain": [
       "<Figure size 432x288 with 1 Axes>"
      ]
     },
     "metadata": {},
     "output_type": "display_data"
    }
   ],
   "source": [
    "# Oversample and plot imbalanced dataset with SMOTE\n",
    "from collections import Counter\n",
    "from sklearn.datasets import make_classification\n",
    "from imblearn.over_sampling import SMOTE\n",
    "from matplotlib import pyplot\n",
    "from numpy import where\n",
    "\n",
    "# define dataset\n",
    "features = [f for f in permit_inspect_unsafe.columns if f not in ['target']]\n",
    "X = permit_inspect_unsafe[features].values\n",
    "y = permit_inspect_unsafe['target'].values.ravel()\n",
    "\n",
    "# summarize class distribution\n",
    "counter = Counter(y)\n",
    "print(counter)\n",
    "\n",
    "# scatter plot of examples by class label\n",
    "for label, _ in counter.items():\n",
    "    row_ix = where(y == label)[0]\n",
    "    pyplot.scatter(X[row_ix, 0], X[row_ix, 1], label=str(label))\n",
    "pyplot.legend()\n",
    "pyplot.show()"
   ]
  },
  {
   "cell_type": "code",
   "execution_count": 64,
   "metadata": {},
   "outputs": [
    {
     "name": "stdout",
     "output_type": "stream",
     "text": [
      "Counter({0.0: 249913, 1.0: 249913})\n"
     ]
    },
    {
     "data": {
      "image/png": "[encoded data removed]",
      "text/plain": [
       "<Figure size 432x288 with 1 Axes>"
      ]
     },
     "metadata": {},
     "output_type": "display_data"
    }
   ],
   "source": [
    "# transform the dataset\n",
    "oversample = SMOTE()\n",
    "X, y = oversample.fit_resample(X, y)\n",
    "# summarize the new class distribution\n",
    "counter = Counter(y)\n",
    "print(counter)\n",
    "\n",
    "# scatter plot of examples by class label\n",
    "for label, _ in counter.items():\n",
    "    row_ix = where(y == label)[0]\n",
    "    pyplot.scatter(X[row_ix, 0], X[row_ix, 1], label=str(label))\n",
    "pyplot.legend()\n",
    "pyplot.show()"
   ]
  },
  {
   "cell_type": "markdown",
   "metadata": {},
   "source": [
    "### Part 4.c Feature Selection & Clean Up:"
   ]
  },
  {
   "cell_type": "raw",
   "metadata": {},
   "source": [
    "Pruning features with Boruta: Boruta can help reduce overfitting the model. When building a machine learning model, it can be hard it is to identify which features are important and which are just noise. Removing the noisy features will help with memory, computational cost and the accuracy of the model.  Also, by removing features you will help avoid the overfitting of the model."
   ]
  },
  {
   "cell_type": "raw",
   "metadata": {},
   "source": [
    "##### Having too many irrelevant features in your data can decrease the accuracy of the models. Three benefits of performing feature selection before modeling the data are:\n",
    "\n",
    "1. Reduces Overfitting: Less redundant data means less opportunity to make decisions based on noise.\n",
    "2. Improves Accuracy: Less misleading data means modeling accuracy improves.\n",
    "3. Reduces Training Time: Less data means that algorithms train faster.\n",
    "\n",
    "##### https://mbq.github.io/Boruta/"
   ]
  },
  {
   "cell_type": "code",
   "execution_count": 65,
   "metadata": {},
   "outputs": [],
   "source": [
    "#Random Forest model for boruta:\n",
    "\n",
    "# rf = RandomForestClassifier(n_jobs=-1, class_weight='balanced', max_depth=5)\n",
    "rf = RandomForestClassifier(random_state=42)\n",
    "random_state=42"
   ]
  },
  {
   "cell_type": "code",
   "execution_count": 66,
   "metadata": {},
   "outputs": [
    {
     "name": "stdout",
     "output_type": "stream",
     "text": [
      "Iteration: \t1 / 150\n",
      "Confirmed: \t0\n",
      "Tentative: \t169\n",
      "Rejected: \t0\n",
      "Iteration: \t2 / 150\n",
      "Confirmed: \t0\n",
      "Tentative: \t169\n",
      "Rejected: \t0\n",
      "Iteration: \t3 / 150\n",
      "Confirmed: \t0\n",
      "Tentative: \t169\n",
      "Rejected: \t0\n",
      "Iteration: \t4 / 150\n",
      "Confirmed: \t0\n",
      "Tentative: \t169\n",
      "Rejected: \t0\n",
      "Iteration: \t5 / 150\n",
      "Confirmed: \t0\n",
      "Tentative: \t169\n",
      "Rejected: \t0\n",
      "Iteration: \t6 / 150\n",
      "Confirmed: \t0\n",
      "Tentative: \t169\n",
      "Rejected: \t0\n",
      "Iteration: \t7 / 150\n",
      "Confirmed: \t0\n",
      "Tentative: \t169\n",
      "Rejected: \t0\n",
      "Iteration: \t8 / 150\n",
      "Confirmed: \t20\n",
      "Tentative: \t3\n",
      "Rejected: \t146\n",
      "Iteration: \t9 / 150\n",
      "Confirmed: \t20\n",
      "Tentative: \t3\n",
      "Rejected: \t146\n",
      "Iteration: \t10 / 150\n",
      "Confirmed: \t20\n",
      "Tentative: \t3\n",
      "Rejected: \t146\n",
      "Iteration: \t11 / 150\n",
      "Confirmed: \t20\n",
      "Tentative: \t3\n",
      "Rejected: \t146\n",
      "Iteration: \t12 / 150\n",
      "Confirmed: \t20\n",
      "Tentative: \t3\n",
      "Rejected: \t146\n",
      "Iteration: \t13 / 150\n",
      "Confirmed: \t20\n",
      "Tentative: \t3\n",
      "Rejected: \t146\n",
      "Iteration: \t14 / 150\n",
      "Confirmed: \t20\n",
      "Tentative: \t3\n",
      "Rejected: \t146\n",
      "Iteration: \t15 / 150\n",
      "Confirmed: \t20\n",
      "Tentative: \t3\n",
      "Rejected: \t146\n",
      "Iteration: \t16 / 150\n",
      "Confirmed: \t20\n",
      "Tentative: \t3\n",
      "Rejected: \t146\n",
      "Iteration: \t17 / 150\n",
      "Confirmed: \t20\n",
      "Tentative: \t3\n",
      "Rejected: \t146\n",
      "Iteration: \t18 / 150\n",
      "Confirmed: \t20\n",
      "Tentative: \t3\n",
      "Rejected: \t146\n",
      "Iteration: \t19 / 150\n",
      "Confirmed: \t20\n",
      "Tentative: \t3\n",
      "Rejected: \t146\n",
      "Iteration: \t20 / 150\n",
      "Confirmed: \t20\n",
      "Tentative: \t3\n",
      "Rejected: \t146\n",
      "Iteration: \t21 / 150\n",
      "Confirmed: \t20\n",
      "Tentative: \t3\n",
      "Rejected: \t146\n",
      "Iteration: \t22 / 150\n",
      "Confirmed: \t20\n",
      "Tentative: \t2\n",
      "Rejected: \t147\n",
      "Iteration: \t23 / 150\n",
      "Confirmed: \t20\n",
      "Tentative: \t2\n",
      "Rejected: \t147\n",
      "Iteration: \t24 / 150\n",
      "Confirmed: \t20\n",
      "Tentative: \t2\n",
      "Rejected: \t147\n",
      "Iteration: \t25 / 150\n",
      "Confirmed: \t20\n",
      "Tentative: \t2\n",
      "Rejected: \t147\n",
      "Iteration: \t26 / 150\n",
      "Confirmed: \t20\n",
      "Tentative: \t2\n",
      "Rejected: \t147\n",
      "Iteration: \t27 / 150\n",
      "Confirmed: \t20\n",
      "Tentative: \t2\n",
      "Rejected: \t147\n",
      "Iteration: \t28 / 150\n",
      "Confirmed: \t20\n",
      "Tentative: \t2\n",
      "Rejected: \t147\n",
      "Iteration: \t29 / 150\n",
      "Confirmed: \t20\n",
      "Tentative: \t1\n",
      "Rejected: \t148\n",
      "Iteration: \t30 / 150\n",
      "Confirmed: \t20\n",
      "Tentative: \t1\n",
      "Rejected: \t148\n",
      "Iteration: \t31 / 150\n",
      "Confirmed: \t20\n",
      "Tentative: \t1\n",
      "Rejected: \t148\n",
      "Iteration: \t32 / 150\n",
      "Confirmed: \t20\n",
      "Tentative: \t0\n",
      "Rejected: \t149\n",
      "\n",
      "\n",
      "BorutaPy finished running.\n",
      "\n",
      "Iteration: \t33 / 150\n",
      "Confirmed: \t20\n",
      "Tentative: \t0\n",
      "Rejected: \t149\n"
     ]
    },
    {
     "data": {
      "text/plain": [
       "BorutaPy(alpha=0.05,\n",
       "         estimator=RandomForestClassifier(bootstrap=True, ccp_alpha=0.0,\n",
       "                                          class_weight=None, criterion='gini',\n",
       "                                          max_depth=None, max_features='auto',\n",
       "                                          max_leaf_nodes=None, max_samples=None,\n",
       "                                          min_impurity_decrease=0.0,\n",
       "                                          min_impurity_split=None,\n",
       "                                          min_samples_leaf=1,\n",
       "                                          min_samples_split=2,\n",
       "                                          min_weight_fraction_leaf=0.0,\n",
       "                                          n_estimators=64, n_jobs=None,\n",
       "                                          oob_score=False,\n",
       "                                          random_state=<mtrand.RandomState object at 0x7f20906471b0>,\n",
       "                                          verbose=0, warm_start=False),\n",
       "         max_iter=150, n_estimators='auto', perc=90,\n",
       "         random_state=<mtrand.RandomState object at 0x7f20906471b0>,\n",
       "         two_step=True, verbose=2)"
      ]
     },
     "execution_count": 66,
     "metadata": {},
     "output_type": "execute_result"
    }
   ],
   "source": [
    "#Boruta feature selector with max iterations=150\n",
    "import boruta\n",
    "from boruta import BorutaPy\n",
    "\n",
    "features = [f for f in permit_inspect_unsafe_undersample.columns if f not in ['target']]\n",
    "len(features)\n",
    "\n",
    "X = permit_inspect_unsafe_undersample[features].values\n",
    "y = permit_inspect_unsafe_undersample['target'].values.ravel()\n",
    "\n",
    "boruta_feature_selector = BorutaPy(rf, n_estimators='auto', verbose=2, random_state=42, max_iter = 150, perc = 90)\n",
    "boruta_feature_selector.fit(X, y)\n"
   ]
  },
  {
   "cell_type": "code",
   "execution_count": 67,
   "metadata": {},
   "outputs": [
    {
     "name": "stdout",
     "output_type": "stream",
     "text": [
      "\n",
      " Number of selected features: 20\n"
     ]
    }
   ],
   "source": [
    "#New number of selected features\n",
    "\n",
    "print ('\\n Number of selected features: {}'.format(boruta_feature_selector.n_features_))\n"
   ]
  },
  {
   "cell_type": "code",
   "execution_count": 68,
   "metadata": {},
   "outputs": [
    {
     "name": "stdout",
     "output_type": "stream",
     "text": [
      "\n",
      " New shape: (2220, 20)\n"
     ]
    }
   ],
   "source": [
    "#Filter on the selected features\n",
    "\n",
    "X_filtered = boruta_feature_selector.transform(X)\n",
    "print ('\\n New shape: {}'.format(X_filtered.shape))\n"
   ]
  },
  {
   "cell_type": "code",
   "execution_count": 69,
   "metadata": {},
   "outputs": [
    {
     "name": "stdout",
     "output_type": "stream",
     "text": [
      "Features that have been pruned: ['Cancelled', 'HOLD', 'None', '5 DAY REVIEW GROUP', 'ACCELERATED REVIEW', 'IMMINENTLY DANGEROUS', 'COMPEXCP', 'DEMOLISH', 'RESOLVE', 'STOP WORK', 'ACTC', 'ADMIN', 'BBR', 'CA', 'CASE', 'CDA', 'CEC', 'CNE', 'CNL', 'COMPL', 'COURT', 'DEMO', 'ENCAP', 'ER', 'ERC', 'FCW', 'FWD', 'INCAS', 'NOACC', 'OCCUP', 'OPEN', 'RFU', 'SCA', 'STP', 'UNF', 'UNFND', 'UNSUB', 'VIO', 'VOID', 'AGENT CONTACT', 'APPELLANT', 'ATTORNEY', 'BILLING CONTACT', 'CERT-ELECTRICAL CONTRACTOR', 'CERT-FIRE SUPPRESSION SYSTEMII', \"CERT-MANUFACTURER'S REP\", 'CSU CURBSIDE DEMOLITION', 'CSU ENCAPSULATION', 'DEMO SUPERVISOR', 'DESIGN PROFESSIONAL', 'ENGINEER SERVICES', 'INTERESTED PARTY', 'LICENSEE CONTACT', 'OCCUPANT', 'ONSITE CONTACT', 'OPERATOR OF BUSINESS', 'OWNER', 'OWNER CONTACT', 'PROF', 'PROPERTY MANAGER', 'RESPONSIBLE COMPANY CONTACT', 'SAFETY OFFICER', 'SPECIAL INSPECTOR', 'TENANT', 'ADD', 'AHVAC', 'ALTER', 'AMEND', 'BACKFL', 'CO', 'COMDEM', 'CONR', 'DIFFU', 'DUPLO', 'ELECAN', 'ELECWP', 'ENTIR', 'ENTIRE', 'ENTSTR', 'EXPUSE', 'EZELEC', 'EZPLUM', 'FAMDAY', 'FENCE', 'FIREPY', 'FIRSAL', 'FITOUT', 'FOUND', 'FRAME', 'FUEL', 'FULL', 'FULLC', 'HOTWRK', 'HYDR', 'INTERI', 'KITCH1', 'KITCHH', 'LOTLIN', 'MAJOR', 'MINOR', 'MINORC', 'MISC', 'MOD/IN', 'NEWCON', 'NEWIN', 'NEWLO', 'NHVAC', 'OPNBRN', 'PARTBL', 'PARTCH', 'PARTIA', 'PARTIL', 'PARTSI', 'PLUMAN', 'PLUMWP', 'PRELIM', 'PREPL', 'PUMP', 'RELOCA', 'REMOV', 'SFADD', 'SFRED', 'SHELL', 'SIGNAC', 'SIGNE', 'SIGNNA', 'SPEV', 'STAND', 'TANK', 'TANKRI', 'TCO', 'TENTS', 'WARMA', 'ZBAADM', 'ADDITION PERMIT', 'ADMINISTRATIVE PERMIT', 'DEMOLITION PERMIT', 'ELECTRICAL PERMIT', 'FAST FORM BUILDING PERMIT', 'MECHANICAL PERMIT', 'NEW CONSTRUCTION PERMIT', 'OPERATIONS PERMIT', 'PLUMBING PERMIT', 'SIGN PERMIT', 'SUPPRESSION PERMIT', 'USE PERMIT', 'ZONING ADMIN REVIEW', 'ZONING PERMIT', 'ZONING/USE PERMIT']\n"
     ]
    }
   ],
   "source": [
    "# Features that have been pruned:\n",
    "\n",
    "final_features = list()\n",
    "indexes = np.where(boruta_feature_selector.support_ == False)\n",
    "for x in np.nditer(indexes):\n",
    "    final_features.append(features[x])\n",
    "print(\"Features that have been pruned: {}\".format(final_features))"
   ]
  },
  {
   "cell_type": "code",
   "execution_count": 70,
   "metadata": {},
   "outputs": [
    {
     "name": "stdout",
     "output_type": "stream",
     "text": [
      "Features that have been kept: ['censustract', 'code_violations_count', 'Failed', 'Closed', 'Passed', 'unique_insp_cases', 'CONSTRUCTION SERVICES', 'HAZARD', 'NON HAZARDOUS', 'UNSAFE', 'CLOSEDCASE', 'COMPLIED', 'ABATE', 'CLOSE', 'CMPLY', 'REISS', 'RES', 'SR', 'CONTRACTOR', 'ALTERATION PERMIT']\n"
     ]
    }
   ],
   "source": [
    "#Create a list of the selected feature names if we would like to use them at a later stage.\n",
    "\n",
    "final_features = list()\n",
    "indexes = np.where(boruta_feature_selector.support_ == True)\n",
    "for x in np.nditer(indexes):\n",
    "    final_features.append(features[x])\n",
    "print(\"Features that have been kept: {}\".format(final_features))"
   ]
  },
  {
   "cell_type": "markdown",
   "metadata": {},
   "source": [
    "#### New dataframe with pruned features:"
   ]
  },
  {
   "cell_type": "code",
   "execution_count": 71,
   "metadata": {},
   "outputs": [
    {
     "data": {
      "text/html": [
       "<div>\n",
       "<style scoped>\n",
       "    .dataframe tbody tr th:only-of-type {\n",
       "        vertical-align: middle;\n",
       "    }\n",
       "\n",
       "    .dataframe tbody tr th {\n",
       "        vertical-align: top;\n",
       "    }\n",
       "\n",
       "    .dataframe thead th {\n",
       "        text-align: right;\n",
       "    }\n",
       "</style>\n",
       "<table border=\"1\" class=\"dataframe\">\n",
       "  <thead>\n",
       "    <tr style=\"text-align: right;\">\n",
       "      <th></th>\n",
       "      <th>censustract</th>\n",
       "      <th>code_violations_count</th>\n",
       "      <th>Failed</th>\n",
       "      <th>Closed</th>\n",
       "      <th>Passed</th>\n",
       "      <th>unique_insp_cases</th>\n",
       "      <th>CONSTRUCTION SERVICES</th>\n",
       "      <th>HAZARD</th>\n",
       "      <th>NON HAZARDOUS</th>\n",
       "      <th>UNSAFE</th>\n",
       "      <th>CLOSEDCASE</th>\n",
       "      <th>COMPLIED</th>\n",
       "      <th>ABATE</th>\n",
       "      <th>CLOSE</th>\n",
       "      <th>CMPLY</th>\n",
       "      <th>REISS</th>\n",
       "      <th>RES</th>\n",
       "      <th>SR</th>\n",
       "      <th>STP</th>\n",
       "      <th>CONTRACTOR</th>\n",
       "      <th>OWNER</th>\n",
       "      <th>ALTERATION PERMIT</th>\n",
       "      <th>target</th>\n",
       "    </tr>\n",
       "  </thead>\n",
       "  <tbody>\n",
       "    <tr>\n",
       "      <th>0</th>\n",
       "      <td>66.0</td>\n",
       "      <td>7.0</td>\n",
       "      <td>7</td>\n",
       "      <td>2</td>\n",
       "      <td>3</td>\n",
       "      <td>6</td>\n",
       "      <td>0.0</td>\n",
       "      <td>0.0</td>\n",
       "      <td>5.0</td>\n",
       "      <td>2.0</td>\n",
       "      <td>2.0</td>\n",
       "      <td>5.0</td>\n",
       "      <td>0.0</td>\n",
       "      <td>2.0</td>\n",
       "      <td>4.0</td>\n",
       "      <td>1.0</td>\n",
       "      <td>0.0</td>\n",
       "      <td>0.0</td>\n",
       "      <td>0.0</td>\n",
       "      <td>1</td>\n",
       "      <td>0</td>\n",
       "      <td>0</td>\n",
       "      <td>1.0</td>\n",
       "    </tr>\n",
       "  </tbody>\n",
       "</table>\n",
       "</div>"
      ],
      "text/plain": [
       "   censustract  code_violations_count  Failed  Closed  Passed  unique_insp_cases  CONSTRUCTION SERVICES  HAZARD  NON HAZARDOUS  UNSAFE  CLOSEDCASE  COMPLIED  ABATE  CLOSE  CMPLY  REISS  RES   SR  STP  CONTRACTOR  OWNER  ALTERATION PERMIT  target\n",
       "0         66.0                    7.0       7       2       3                  6                    0.0     0.0            5.0     2.0         2.0       5.0    0.0    2.0    4.0    1.0  0.0  0.0  0.0           1      0                  0     1.0"
      ]
     },
     "execution_count": 71,
     "metadata": {},
     "output_type": "execute_result"
    }
   ],
   "source": [
    "df2=(permit_inspect_unsafe_undersample.reindex(columns=['censustract', 'code_violations_count', 'Failed', 'Closed', 'Passed', 'unique_insp_cases', 'CONSTRUCTION SERVICES', 'HAZARD', 'NON HAZARDOUS', 'UNSAFE', 'CLOSEDCASE', 'COMPLIED', 'ABATE', 'CLOSE', 'CMPLY', 'REISS', 'RES', 'SR', 'STP', 'CONTRACTOR', 'OWNER', 'ALTERATION PERMIT','target']))\n",
    "df2.head(1)"
   ]
  },
  {
   "cell_type": "markdown",
   "metadata": {},
   "source": [
    "### Part 4.d Separate Models & Ensemble Learning:\n"
   ]
  },
  {
   "cell_type": "code",
   "execution_count": 72,
   "metadata": {},
   "outputs": [],
   "source": [
    "# split data into X and y\n",
    "X= df2.iloc[:,:-1]\n",
    "y=df2.iloc[:,-1]\n",
    "\n",
    "#Or another way:\n",
    "# Separate input features and target\n",
    "y = df2.target\n",
    "X = df2.drop('target', axis=1)\n",
    "\n",
    "# setting up testing and training sets\n",
    "x_train, x_val, y_train, y_val = train_test_split(X, y, test_size=0.25, random_state=42)"
   ]
  },
  {
   "cell_type": "markdown",
   "metadata": {},
   "source": [
    "### Part 4.d.1 Separate Models:\n"
   ]
  },
  {
   "cell_type": "code",
   "execution_count": 73,
   "metadata": {},
   "outputs": [],
   "source": [
    "# A host of Scikit-learn models\n",
    "from sklearn.svm import SVC, LinearSVC\n",
    "from sklearn.naive_bayes import GaussianNB\n",
    "from sklearn.ensemble import RandomForestClassifier, GradientBoostingClassifier\n",
    "from sklearn.linear_model import LogisticRegression\n",
    "from sklearn.neighbors import KNeighborsClassifier\n",
    "from sklearn.neural_network import MLPClassifier\n",
    "from sklearn.kernel_approximation import Nystroem\n",
    "from sklearn.kernel_approximation import RBFSampler\n",
    "from sklearn.pipeline import make_pipeline\n",
    "import xgboost\n",
    "from numpy import loadtxt\n",
    "from xgboost import XGBClassifier\n",
    "from xgboost import plot_importance\n",
    "from matplotlib import pyplot\n",
    "\n",
    "def get_models():\n",
    "    \"\"\"Generate a library of base learners.\"\"\"\n",
    " #   nb = GaussianNB()\n",
    "    svc = SVC(C=100, probability=True)\n",
    "    knn = KNeighborsClassifier(n_neighbors=3)\n",
    "   # lr = LogisticRegression(max_iter=5000,random_state=42)\n",
    "    nn = MLPClassifier((80, 10), early_stopping=False, random_state=42,max_iter=1000)\n",
    "    gb = GradientBoostingClassifier(n_estimators=100, random_state=42)\n",
    "    rf1 = RandomForestClassifier(n_estimators=10, max_features=3, random_state=42)\n",
    "    rf2 = RandomForestClassifier(random_state=42)\n",
    "    xgb = XGBClassifier()\n",
    "\n",
    "    models = {\n",
    "              'svm': svc,\n",
    "              'knn': knn,\n",
    "             # 'naive bayes': nb,\n",
    "              'mlp-nn': nn,\n",
    "              'random forest 1': rf1,\n",
    "              'random forest 2': rf2,\n",
    "              'gbm': gb,\n",
    "             # 'logistic': lr,\n",
    "              'xgb': xgb\n",
    "              }\n",
    "\n",
    "    return models\n",
    "\n",
    "\n",
    "def train_predict(model_list):\n",
    "    \"\"\"Fit models in list on training set and return preds\"\"\"\n",
    "    P = np.zeros((y_val.shape[0], len(model_list)))\n",
    "    P = pd.DataFrame(P)\n",
    "\n",
    "    print(\"Fitting models.\")\n",
    "    cols = list()\n",
    "    for i, (name, m) in enumerate(models.items()):\n",
    "        print(\"%s...\" % name, end=\" \", flush=False)\n",
    "        m.fit(x_train, y_train)\n",
    "        P.iloc[:, i] = m.predict_proba(x_val)[:, 1]\n",
    "        cols.append(name)\n",
    "        print(\"done\")\n",
    "\n",
    "    P.columns = cols\n",
    "    print(\"Done.\\n\")\n",
    "    return P\n",
    "\n",
    "\n",
    "def score_models(P, y):\n",
    "    \"\"\"Score model in prediction DF\"\"\"\n",
    "    print(\"Scoring models (ROC-AUC):\")\n",
    "    for m in P.columns:\n",
    "        score = roc_auc_score(y, P.loc[:, m])\n",
    "        print(\"%-26s: %.3f\" % (m, score))\n",
    "\n",
    "    print(\"Done.\\n\")\n",
    "\n",
    "\n",
    "####################################### \n",
    "        \n",
    "def accuracy_score_models(model_list):\n",
    "    \"\"\"Score model in prediction DF\"\"\"\n",
    "    print(\"Scoring models (Accuracy):\")\n",
    "    for i, (name, m) in enumerate(models.items()):\n",
    "        m.fit(x_train, y_train)\n",
    "        y_pred = m.predict(x_val)\n",
    "        predictions = [round(value) for value in y_pred]\n",
    "        accuracy = accuracy_score(y_val, predictions)\n",
    "        print('%s: Accuracy %.3f' % (name, accuracy))\n",
    "        \n",
    "    \n",
    "def evaluate_models(model_list):\n",
    "    print(\"Scoring models (RMSE):\")\n",
    "    for i, (name, m) in enumerate(models.items()):\n",
    "        m.fit(x_train, y_train)\n",
    "        yhat = m.predict(X)\n",
    "        mse = mean_squared_error(y, yhat)\n",
    "        print('%s: RMSE %.3f' % (name, sqrt(mse)))  \n",
    "        \n",
    "        \n",
    "def evaluate_models123(P, y):\n",
    "    print(\"Scoring models (RMSE):\")\n",
    "    for m in P.columns:\n",
    "            yhat = m.predict(X)\n",
    "            mse = mean_squared_error(y, yhat)\n",
    "            #print('%s: RMSE %.3f' % (name, sqrt(mse)))    \n",
    "            tmp_res = pd.DataFrame([name, sqrt(mse)]).T\n",
    "            tmp_res.columns=['model_name', 'mse']\n",
    "            result = pd.concat([tmp_res, tmp_res])\n",
    "    return result\n",
    "        #tmp_res.head()\n",
    "        "
   ]
  },
  {
   "cell_type": "raw",
   "metadata": {},
   "source": [
    "AUC ROC indicates how well the probabilities from the positive classes are separated from the negative classes:"
   ]
  },
  {
   "cell_type": "code",
   "execution_count": 74,
   "metadata": {},
   "outputs": [
    {
     "name": "stdout",
     "output_type": "stream",
     "text": [
      "Fitting models.\n",
      "svm... done\n",
      "knn... done\n",
      "mlp-nn... done\n",
      "random forest 1... done\n",
      "random forest 2... done\n",
      "gbm... done\n",
      "xgb... done\n",
      "Done.\n",
      "\n",
      "Scoring models (ROC-AUC):\n",
      "svm                       : 0.833\n",
      "knn                       : 0.852\n",
      "mlp-nn                    : 0.860\n",
      "random forest 1           : 0.870\n",
      "random forest 2           : 0.934\n",
      "gbm                       : 0.883\n",
      "xgb                       : 0.878\n",
      "Done.\n",
      "\n"
     ]
    }
   ],
   "source": [
    "models = get_models()\n",
    "P = train_predict(models)\n",
    "score_models(P, y_val)"
   ]
  },
  {
   "cell_type": "code",
   "execution_count": 75,
   "metadata": {},
   "outputs": [
    {
     "name": "stdout",
     "output_type": "stream",
     "text": [
      "Scoring models (Accuracy):\n",
      "svm: Accuracy 0.750\n",
      "knn: Accuracy 0.791\n",
      "mlp-nn: Accuracy 0.768\n",
      "random forest 1: Accuracy 0.786\n",
      "random forest 2: Accuracy 0.850\n",
      "gbm: Accuracy 0.793\n",
      "xgb: Accuracy 0.793\n"
     ]
    }
   ],
   "source": [
    "models = get_models()\n",
    "\n",
    "# evaluate accuracy score\n",
    "accuracy_score_models(models)"
   ]
  },
  {
   "cell_type": "code",
   "execution_count": 76,
   "metadata": {},
   "outputs": [
    {
     "name": "stdout",
     "output_type": "stream",
     "text": [
      "Scoring models (RMSE):\n",
      "svm: RMSE 0.530\n",
      "knn: RMSE 0.377\n",
      "mlp-nn: RMSE 0.423\n",
      "random forest 1: RMSE 0.240\n",
      "random forest 2: RMSE 0.193\n",
      "gbm: RMSE 0.401\n",
      "xgb: RMSE 0.421\n"
     ]
    }
   ],
   "source": [
    "from math import sqrt\n",
    "\n",
    "# evaluate RMSE for base models\n",
    "evaluate_models(models)"
   ]
  },
  {
   "cell_type": "code",
   "execution_count": 77,
   "metadata": {},
   "outputs": [
    {
     "data": {
      "text/html": [
       "<div>\n",
       "<style scoped>\n",
       "    .dataframe tbody tr th:only-of-type {\n",
       "        vertical-align: middle;\n",
       "    }\n",
       "\n",
       "    .dataframe tbody tr th {\n",
       "        vertical-align: top;\n",
       "    }\n",
       "\n",
       "    .dataframe thead th {\n",
       "        text-align: right;\n",
       "    }\n",
       "</style>\n",
       "<table border=\"1\" class=\"dataframe\">\n",
       "  <thead>\n",
       "    <tr style=\"text-align: right;\">\n",
       "      <th></th>\n",
       "      <th>pred_negative</th>\n",
       "      <th>pred_positive</th>\n",
       "    </tr>\n",
       "  </thead>\n",
       "  <tbody>\n",
       "    <tr>\n",
       "      <th>true_negative</th>\n",
       "      <td>238</td>\n",
       "      <td>41</td>\n",
       "    </tr>\n",
       "    <tr>\n",
       "      <th>true_positive</th>\n",
       "      <td>42</td>\n",
       "      <td>234</td>\n",
       "    </tr>\n",
       "  </tbody>\n",
       "</table>\n",
       "</div>"
      ],
      "text/plain": [
       "               pred_negative  pred_positive\n",
       "true_negative            238             41\n",
       "true_positive             42            234"
      ]
     },
     "execution_count": 77,
     "metadata": {},
     "output_type": "execute_result"
    }
   ],
   "source": [
    "#Best model (the random forest 2) summary:\n",
    "\n",
    "# Separate input features and target\n",
    "y = df2.target\n",
    "X = df2.drop('target', axis=1)\n",
    "\n",
    "# setting up testing and training sets\n",
    "x_train, x_val, y_train, y_val = train_test_split(X, y, test_size=0.25, random_state=42)\n",
    "\n",
    "        \n",
    "        \n",
    "rf2 = RandomForestClassifier(random_state=42)\n",
    "rf2.fit(x_train, y_train)\n",
    "\n",
    "y_pred = rf2.predict(x_val)\n",
    "predictions = [round(value) for value in y_pred]\n",
    "accuracy = accuracy_score(y_val, predictions)\n",
    "        \n",
    "test_conf_matrix=confusion_matrix(y_val, y_pred)\n",
    "test_conf_matrix = pd.DataFrame(test_conf_matrix)\n",
    "\n",
    "test_conf_matrix.index=['true_negative', 'true_positive']\n",
    "test_conf_matrix.columns=['pred_negative', 'pred_positive']\n",
    "test_conf_matrix\n",
    "\n",
    "# auc_roc=metrics.classification_report(y_val,y_pred)\n",
    "# auc_roc"
   ]
  },
  {
   "cell_type": "raw",
   "metadata": {},
   "source": [
    "For an ensemble strategy to work, prediction errors must be relatively uncorrelated."
   ]
  },
  {
   "cell_type": "markdown",
   "metadata": {},
   "source": [
    "### Part 4.d.2 Ensemble Model:\n"
   ]
  },
  {
   "cell_type": "code",
   "execution_count": 78,
   "metadata": {},
   "outputs": [
    {
     "name": "stderr",
     "output_type": "stream",
     "text": [
      "[MLENS] backend: threading\n"
     ]
    },
    {
     "data": {
      "image/png": "[encoded data removed]",
      "text/plain": [
       "<Figure size 792x648 with 2 Axes>"
      ]
     },
     "metadata": {},
     "output_type": "display_data"
    }
   ],
   "source": [
    "#ML-Ensemble\n",
    "#Errors are significantly correlated, which is to be expected for models that perform well, \n",
    "#since it’s typically the outliers that are hard to get right. However, the model correlations below fall in \n",
    "#the 50-80% range, so there is room for model improvement through ensemble.\n",
    "\n",
    "from mlens.visualization import corrmat\n",
    "\n",
    "corrmat(P.corr(), inflate=False)\n",
    "plt.show()"
   ]
  },
  {
   "cell_type": "code",
   "execution_count": 79,
   "metadata": {},
   "outputs": [
    {
     "data": {
      "image/png": "[encoded data removed]",
      "text/plain": [
       "<Figure size 792x648 with 2 Axes>"
      ]
     },
     "metadata": {},
     "output_type": "display_data"
    }
   ],
   "source": [
    "#Looking at error correlations on a class prediction basis:\n",
    "#Scores at lower, which is more promising\n",
    "\n",
    "corrmat(P.apply(lambda pred: 1*(pred >= 0.5) - y_val.values).corr(), inflate=False)\n",
    "plt.show()"
   ]
  },
  {
   "cell_type": "code",
   "execution_count": 80,
   "metadata": {},
   "outputs": [
    {
     "name": "stdout",
     "output_type": "stream",
     "text": [
      "Ensemble ROC-AUC score: 0.928\n"
     ]
    }
   ],
   "source": [
    "print(\"Ensemble ROC-AUC score: %.3f\" % roc_auc_score(y_val, P.mean(axis=1)))"
   ]
  },
  {
   "cell_type": "code",
   "execution_count": 81,
   "metadata": {},
   "outputs": [
    {
     "data": {
      "image/png": "[encoded data removed]",
      "text/plain": [
       "<Figure size 720x576 with 1 Axes>"
      ]
     },
     "metadata": {},
     "output_type": "display_data"
    }
   ],
   "source": [
    "#Looking at ROC curve for all models\n",
    "\n",
    "from sklearn.metrics import roc_curve\n",
    "\n",
    "def plot_roc_curve(ytest, P_base_learners, P_ensemble, labels, ens_label):\n",
    "    \"\"\"Plot the roc curve for base learners and ensemble.\"\"\"\n",
    "    plt.figure(figsize=(10, 8))\n",
    "    plt.plot([0, 1], [0, 1], 'k--')\n",
    "\n",
    "    cm = [plt.cm.rainbow(i)\n",
    "      for i in np.linspace(0, 1.0, P_base_learners.shape[1] + 1)]\n",
    "\n",
    "    for i in range(P_base_learners.shape[1]):\n",
    "        p = P_base_learners[:, i]\n",
    "        fpr, tpr, _ = roc_curve(y_val, p)\n",
    "        plt.plot(fpr, tpr, label=labels[i], c=cm[i + 1])\n",
    "\n",
    "    fpr, tpr, _ = roc_curve(y_val, P_ensemble)\n",
    "    plt.plot(fpr, tpr, label=ens_label, c=cm[0])\n",
    "\n",
    "    plt.xlabel('False positive rate')\n",
    "    plt.ylabel('True positive rate')\n",
    "    plt.title('ROC curve')\n",
    "    plt.legend(frameon=False)\n",
    "    plt.show()\n",
    "\n",
    "\n",
    "plot_roc_curve(y_val, P.values, P.mean(axis=1), list(P.columns), \"ensemble\")"
   ]
  },
  {
   "cell_type": "code",
   "execution_count": 82,
   "metadata": {},
   "outputs": [
    {
     "data": {
      "image/png": "[encoded data removed]",
      "text/plain": [
       "<Figure size 432x288 with 1 Axes>"
      ]
     },
     "metadata": {},
     "output_type": "display_data"
    }
   ],
   "source": [
    "#Ranking of models by \n",
    "# A simple check shows that some models perform worse than others.\n",
    "\n",
    "p = P.apply(lambda x: 1*(x >= 0.5).value_counts(normalize=True))\n",
    "p.index = [\"UNSAFE\", \"OKAY\"]\n",
    "p.loc[\"OKAY\", :].sort_values().plot(kind=\"bar\")\n",
    "#plt.axhline(0.25, color=\"k\", linewidth=0.5)\n",
    "#plt.text(0., 0.23, \"True share\")\n",
    "plt.show()"
   ]
  },
  {
   "cell_type": "raw",
   "metadata": {},
   "source": [
    "A small improvement for ROC-AUC score:"
   ]
  },
  {
   "cell_type": "code",
   "execution_count": 83,
   "metadata": {},
   "outputs": [
    {
     "name": "stdout",
     "output_type": "stream",
     "text": [
      "Truncated ensemble ROC-AUC score: 0.930\n"
     ]
    }
   ],
   "source": [
    "#Improve the Emsemble by removing the worst offender: Naive Bayes\n",
    "\n",
    "include = [c for c in P.columns if c not in [\"svm\"]]\n",
    "print(\"Truncated ensemble ROC-AUC score: %.3f\" % roc_auc_score(y_val, P.loc[:, include].mean(axis=1)))"
   ]
  },
  {
   "cell_type": "markdown",
   "metadata": {},
   "source": [
    "### Part 4.d.2 Ensemble Model:"
   ]
  },
  {
   "cell_type": "code",
   "execution_count": 84,
   "metadata": {},
   "outputs": [],
   "source": [
    "#Define a meta learner\n",
    "\n",
    "meta_learner = RandomForestClassifier(\n",
    "#     n_estimators=1000,\n",
    "#     loss=\"exponential\",\n",
    "#     max_features=4,\n",
    "#     max_depth=3,\n",
    "#     subsample=0.5,\n",
    "#     learning_rate=0.005,\n",
    "    random_state=42)"
   ]
  },
  {
   "cell_type": "code",
   "execution_count": 85,
   "metadata": {},
   "outputs": [],
   "source": [
    "# example of a super learner using the mlens library\n",
    "from sklearn.datasets.samples_generator import make_blobs\n",
    "from sklearn.model_selection import train_test_split\n",
    "from sklearn.metrics import accuracy_score\n",
    "from sklearn.neighbors import KNeighborsClassifier\n",
    "from sklearn.linear_model import LogisticRegression\n",
    "from sklearn.tree import DecisionTreeClassifier\n",
    "from sklearn.svm import SVC\n",
    "from sklearn.naive_bayes import GaussianNB\n",
    "from sklearn.ensemble import AdaBoostClassifier\n",
    "from sklearn.ensemble import BaggingClassifier\n",
    "from sklearn.ensemble import RandomForestClassifier\n",
    "from sklearn.ensemble import ExtraTreesClassifier\n",
    "from mlens.ensemble import SuperLearner\n",
    "\n",
    "# create a list of base-models\n",
    "def get_models():\n",
    "    models = list()\n",
    "    models.append(GaussianNB())\n",
    "    models.append(SVC(C=100, probability=True))\n",
    "    models.append(KNeighborsClassifier(n_neighbors=5))\n",
    "    models.append(LogisticRegression(max_iter=5000,random_state=42))\n",
    "    models.append(MLPClassifier((80, 10), early_stopping=False, random_state=42,max_iter=1000))\n",
    "    models.append(GradientBoostingClassifier(random_state=42))\n",
    "    models.append(RandomForestClassifier(max_features=3, random_state=42))\n",
    "    models.append(RandomForestClassifier(random_state=42))\n",
    "    models.append(XGBClassifier())\n",
    "    \n",
    "#     models = {\n",
    "#               'svm': svc,\n",
    "#               'knn': knn,\n",
    "#               'naive bayes': nb,\n",
    "#               'mlp-nn': nn,\n",
    "#               'random forest 1': rf1,\n",
    "#               'random forest 2': rf2,\n",
    "#               'gbm': gb,\n",
    "#               'logistic': lr,\n",
    "#               'xgb': xgb\n",
    "#               }\n",
    "\n",
    "    return models\n",
    "\n",
    "# create the super learner\n",
    "def get_super_learner(X):\n",
    "    ensemble = SuperLearner(scorer=accuracy_score, folds=10, shuffle=True, sample_size=len(X))\n",
    "    # add base models\n",
    "    models = get_models()\n",
    "    ensemble.add(models)\n",
    "    # add the meta model\n",
    "    ensemble.add_meta(LogisticRegression(solver='lbfgs'))\n",
    "    return ensemble\n"
   ]
  },
  {
   "cell_type": "code",
   "execution_count": 86,
   "metadata": {},
   "outputs": [
    {
     "name": "stdout",
     "output_type": "stream",
     "text": [
      "Train (1665, 22) (1665,) Test (555, 22) (555,)\n",
      "                                       score-m  score-s   ft-m  ft-s  pt-m  pt-s\n",
      "layer-1  gaussiannb                       0.59     0.03   0.02  0.00  0.00  0.00\n",
      "layer-1  gradientboostingclassifier       0.76     0.03   1.94  0.14  0.00  0.01\n",
      "layer-1  kneighborsclassifier             0.72     0.03   0.02  0.01  0.01  0.01\n",
      "layer-1  logisticregression               0.67     0.03   9.64  2.29  0.00  0.00\n",
      "layer-1  mlpclassifier                    0.73     0.02  21.22  4.25  0.00  0.00\n",
      "layer-1  randomforestclassifier-1         0.84     0.02   1.97  0.35  0.16  0.07\n",
      "layer-1  randomforestclassifier-2         0.84     0.02   1.40  0.26  0.07  0.03\n",
      "layer-1  svc                              0.68     0.02   1.97  0.13  0.02  0.01\n",
      "layer-1  xgbclassifier                    0.76     0.04   0.32  0.08  0.00  0.00\n",
      "\n",
      "Super Learner: 85.586\n"
     ]
    }
   ],
   "source": [
    "# create the inputs and outputs\n",
    "y = df2.target.values\n",
    "X = df2.drop('target', axis=1).values\n",
    "\n",
    "# # split\n",
    "# X, X_val, y, y_val = train_test_split(X, y, test_size=0.50)\n",
    "\n",
    "# setting up testing and training sets\n",
    "X, x_val, y, y_val = train_test_split(X, y, test_size=0.25, random_state=42)\n",
    "print('Train', X.shape, y.shape, 'Test', x_val.shape, y_val.shape)\n",
    "\n",
    "# create the super learner\n",
    "ensemble = get_super_learner(X)\n",
    "\n",
    "\n",
    "# fit the super learner\n",
    "ensemble.fit(X, y)\n",
    "# # summarize base learners\n",
    "print(ensemble.data)\n",
    "# # make predictions on hold out set\n",
    "yhat = ensemble.predict(x_val)\n",
    "print('Super Learner: %.3f' % (accuracy_score(y_val, yhat) * 100))"
   ]
  },
  {
   "cell_type": "raw",
   "metadata": {},
   "source": [
    "The super learner ensemble model scores slightly lower (-1%) than the second random forest model, which had an accuracy rate of %85.9.  I'll continue to tweak the super learner model to improve the accuracy and ROC-AUC score."
   ]
  }
 ],
 "metadata": {
  "kernelspec": {
   "display_name": "conda_python3",
   "language": "python",
   "name": "conda_python3"
  },
  "language_info": {
   "codemirror_mode": {
    "name": "ipython",
    "version": 3
   },
   "file_extension": ".py",
   "mimetype": "text/x-python",
   "name": "python",
   "nbconvert_exporter": "python",
   "pygments_lexer": "ipython3",
   "version": "3.6.5"
  }
 },
 "nbformat": 4,
 "nbformat_minor": 2
}
